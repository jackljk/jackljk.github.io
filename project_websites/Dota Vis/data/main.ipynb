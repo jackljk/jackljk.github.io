{
 "cells": [
  {
   "cell_type": "code",
   "execution_count": 1,
   "metadata": {},
   "outputs": [],
   "source": [
    "import requests\n",
    "import pandas as pd\n",
    "import numpy as np\n",
    "import json"
   ]
  },
  {
   "cell_type": "code",
   "execution_count": 2,
   "metadata": {},
   "outputs": [
    {
     "data": {
      "text/plain": [
       "<Response [200]>"
      ]
     },
     "execution_count": 2,
     "metadata": {},
     "output_type": "execute_result"
    }
   ],
   "source": [
    "response = requests.get('https://api.opendota.com/api/heroStats')\n",
    "response"
   ]
  },
  {
   "cell_type": "code",
   "execution_count": 3,
   "metadata": {},
   "outputs": [],
   "source": [
    "# write to file\n",
    "with open('hero_stats.json', 'w') as f:\n",
    "    f.write(response.text)"
   ]
  },
  {
   "cell_type": "code",
   "execution_count": 4,
   "metadata": {},
   "outputs": [
    {
     "data": {
      "text/plain": [
       "<Response [200]>"
      ]
     },
     "execution_count": 4,
     "metadata": {},
     "output_type": "execute_result"
    }
   ],
   "source": [
    "response = requests.get('https://api.opendota.com/api/proPlayers')\n",
    "response"
   ]
  },
  {
   "cell_type": "code",
   "execution_count": 5,
   "metadata": {},
   "outputs": [],
   "source": [
    "with open('proPlayers.json', 'w') as f:\n",
    "    f.write(response.text)"
   ]
  },
  {
   "cell_type": "code",
   "execution_count": 6,
   "metadata": {},
   "outputs": [
    {
     "data": {
      "text/plain": [
       "124"
      ]
     },
     "execution_count": 6,
     "metadata": {},
     "output_type": "execute_result"
    }
   ],
   "source": [
    "# read hero_stats.json\n",
    "with open('hero_stats.json', 'r') as f:\n",
    "    hero_stats = f.read()\n",
    "\n",
    "hero_stats = json.loads(hero_stats)\n",
    "len(hero_stats)"
   ]
  },
  {
   "cell_type": "code",
   "execution_count": 7,
   "metadata": {},
   "outputs": [
    {
     "name": "stdout",
     "output_type": "stream",
     "text": [
      "Puck\n",
      "Pudge\n",
      "Enigma\n",
      "Beastmaster\n",
      "Pugna\n",
      "Clockwerk\n",
      "Dark Seer\n",
      "Bounty Hunter\n",
      "Batrider\n",
      "Nyx Assassin\n",
      "Centaur Warrunner\n",
      "Magnus\n",
      "Timbersaw\n",
      "Tusk\n",
      "Elder Titan\n",
      "Techies\n",
      "Earth Spirit\n",
      "Primal Beast\n"
     ]
    }
   ],
   "source": [
    "for i in range(len(hero_stats)):\n",
    "    l = hero_stats[i]['roles']\n",
    "\n",
    "    if 'Carry' in l:\n",
    "        continue\n",
    "    if 'Support' in l:\n",
    "        continue\n",
    "    print(hero_stats[i]['localized_name'])"
   ]
  },
  {
   "cell_type": "code",
   "execution_count": null,
   "metadata": {},
   "outputs": [],
   "source": []
  }
 ],
 "metadata": {
  "kernelspec": {
   "display_name": "dsc80",
   "language": "python",
   "name": "python3"
  },
  "language_info": {
   "codemirror_mode": {
    "name": "ipython",
    "version": 3
   },
   "file_extension": ".py",
   "mimetype": "text/x-python",
   "name": "python",
   "nbconvert_exporter": "python",
   "pygments_lexer": "ipython3",
   "version": "3.9.13"
  },
  "orig_nbformat": 4
 },
 "nbformat": 4,
 "nbformat_minor": 2
}
